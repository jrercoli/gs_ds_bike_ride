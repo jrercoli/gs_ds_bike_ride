{
  "nbformat": 4,
  "nbformat_minor": 0,
  "metadata": {
    "colab": {
      "name": "getting_started_ds_bike_ride.ipynb",
      "provenance": [],
      "collapsed_sections": []
    },
    "kernelspec": {
      "name": "python3",
      "display_name": "Python 3"
    }
  },
  "cells": [
    {
      "cell_type": "code",
      "metadata": {
        "id": "5buAxxhzdUdW"
      },
      "source": [
        "import matplotlib.pyplot as plt\r\n",
        "import pandas as pd\r\n",
        "import numpy as np\r\n",
        "import seaborn as sns\r\n",
        "import networkx as nx\r\n",
        "%matplotlib notebook"
      ],
      "execution_count": 1,
      "outputs": []
    },
    {
      "cell_type": "code",
      "metadata": {
        "colab": {
          "base_uri": "https://localhost:8080/"
        },
        "id": "3yFurthfdj8h",
        "outputId": "e8927dd4-ae35-46ea-cd65-74dd7f6ee032"
      },
      "source": [
        "from google.colab import drive\r\n",
        "drive.mount('/gdrive')\r\n",
        "%cd /gdrive/MyDrive"
      ],
      "execution_count": 2,
      "outputs": [
        {
          "output_type": "stream",
          "text": [
            "Mounted at /gdrive\n",
            "/gdrive/MyDrive\n"
          ],
          "name": "stdout"
        }
      ]
    },
    {
      "cell_type": "code",
      "metadata": {
        "id": "ORupqSIAdkvq"
      },
      "source": [
        "temp2018 = pd.read_csv('./BA-temp-2018.csv')\r\n",
        "bike_ride_2018 = pd.read_csv('./BA-bikes-rides-2018.csv')"
      ],
      "execution_count": 3,
      "outputs": []
    },
    {
      "cell_type": "code",
      "metadata": {
        "colab": {
          "base_uri": "https://localhost:8080/",
          "height": 299
        },
        "id": "1un55V0NffVC",
        "outputId": "fb599f7c-59c8-49d8-ccbd-e357289033f1"
      },
      "source": [
        "# inspect the data\r\n",
        "bike_ride_2018.head()"
      ],
      "execution_count": 4,
      "outputs": [
        {
          "output_type": "execute_result",
          "data": {
            "text/html": [
              "<div>\n",
              "<style scoped>\n",
              "    .dataframe tbody tr th:only-of-type {\n",
              "        vertical-align: middle;\n",
              "    }\n",
              "\n",
              "    .dataframe tbody tr th {\n",
              "        vertical-align: top;\n",
              "    }\n",
              "\n",
              "    .dataframe thead th {\n",
              "        text-align: right;\n",
              "    }\n",
              "</style>\n",
              "<table border=\"1\" class=\"dataframe\">\n",
              "  <thead>\n",
              "    <tr style=\"text-align: right;\">\n",
              "      <th></th>\n",
              "      <th>id_usuario</th>\n",
              "      <th>genero_usuario</th>\n",
              "      <th>fecha_origen_recorrido</th>\n",
              "      <th>id_estacion_origen</th>\n",
              "      <th>nombre_estacion_origen</th>\n",
              "      <th>long_estacion_origen</th>\n",
              "      <th>lat_estacion_origen</th>\n",
              "      <th>domicilio_estacion_origen</th>\n",
              "      <th>duracion_recorrido</th>\n",
              "      <th>fecha_destino_recorrido</th>\n",
              "      <th>id_estacion_destino</th>\n",
              "      <th>nombre_estacion_destino</th>\n",
              "      <th>long_estacion_destino</th>\n",
              "      <th>lat_estacion_destino</th>\n",
              "      <th>domicilio_estacion_destino</th>\n",
              "    </tr>\n",
              "  </thead>\n",
              "  <tbody>\n",
              "    <tr>\n",
              "      <th>0</th>\n",
              "      <td>5453</td>\n",
              "      <td>M</td>\n",
              "      <td>2018-01-01 00:08:05</td>\n",
              "      <td>45.0</td>\n",
              "      <td>Uruguay</td>\n",
              "      <td>-58.386913</td>\n",
              "      <td>-34.601616</td>\n",
              "      <td>Tucumán y Uruguay</td>\n",
              "      <td>0 days 00:19:53.000000000</td>\n",
              "      <td>2018-01-01 00:27:58</td>\n",
              "      <td>183.0</td>\n",
              "      <td>Virrey Cevallos</td>\n",
              "      <td>-58.389692</td>\n",
              "      <td>-34.615638</td>\n",
              "      <td>México 1652 entre Virrey Cevallos y Solís</td>\n",
              "    </tr>\n",
              "    <tr>\n",
              "      <th>1</th>\n",
              "      <td>673</td>\n",
              "      <td>M</td>\n",
              "      <td>2018-01-01 00:18:05</td>\n",
              "      <td>189.0</td>\n",
              "      <td>Posadas</td>\n",
              "      <td>-58.385586</td>\n",
              "      <td>-34.588475</td>\n",
              "      <td>Posadas 1350 entre Montevideo y Rodríguez Peña</td>\n",
              "      <td>0 days 00:26:19.000000000</td>\n",
              "      <td>2018-01-01 00:44:24</td>\n",
              "      <td>110.0</td>\n",
              "      <td>Guardia Vieja</td>\n",
              "      <td>-58.415459</td>\n",
              "      <td>-34.601761</td>\n",
              "      <td>Guardia Vieja 3606 entre Billinghurst y Mario ...</td>\n",
              "    </tr>\n",
              "    <tr>\n",
              "      <th>2</th>\n",
              "      <td>179119</td>\n",
              "      <td>F</td>\n",
              "      <td>2018-01-01 00:20:14</td>\n",
              "      <td>50.0</td>\n",
              "      <td>Hospital Rivadavia</td>\n",
              "      <td>-58.401148</td>\n",
              "      <td>-34.583677</td>\n",
              "      <td>Lucena Pereyra 2516 entre Las Heras y Pagano</td>\n",
              "      <td>0 days 00:27:39.000000000</td>\n",
              "      <td>2018-01-01 00:47:53</td>\n",
              "      <td>31.0</td>\n",
              "      <td>Padilla</td>\n",
              "      <td>-58.439709</td>\n",
              "      <td>-34.603162</td>\n",
              "      <td>Padilla y Warnes Av</td>\n",
              "    </tr>\n",
              "    <tr>\n",
              "      <th>3</th>\n",
              "      <td>400147</td>\n",
              "      <td>M</td>\n",
              "      <td>2018-01-01 00:20:22</td>\n",
              "      <td>111.0</td>\n",
              "      <td>Macacha Güemes</td>\n",
              "      <td>-58.363000</td>\n",
              "      <td>-34.604969</td>\n",
              "      <td>Macacha Guemes y Juana Manso</td>\n",
              "      <td>0 days 00:48:51.000000000</td>\n",
              "      <td>2018-01-01 01:09:13</td>\n",
              "      <td>54.0</td>\n",
              "      <td>Acuña de Figueroa</td>\n",
              "      <td>-58.421705</td>\n",
              "      <td>-34.598222</td>\n",
              "      <td>Lavalle y Acuña de Figueroa</td>\n",
              "    </tr>\n",
              "    <tr>\n",
              "      <th>4</th>\n",
              "      <td>400156</td>\n",
              "      <td>F</td>\n",
              "      <td>2018-01-01 00:20:31</td>\n",
              "      <td>111.0</td>\n",
              "      <td>Macacha Güemes</td>\n",
              "      <td>-58.363000</td>\n",
              "      <td>-34.604969</td>\n",
              "      <td>Macacha Guemes y Juana Manso</td>\n",
              "      <td>0 days 00:49:27.000000000</td>\n",
              "      <td>2018-01-01 01:09:58</td>\n",
              "      <td>54.0</td>\n",
              "      <td>Acuña de Figueroa</td>\n",
              "      <td>-58.421705</td>\n",
              "      <td>-34.598222</td>\n",
              "      <td>Lavalle y Acuña de Figueroa</td>\n",
              "    </tr>\n",
              "  </tbody>\n",
              "</table>\n",
              "</div>"
            ],
            "text/plain": [
              "   id_usuario  ...                         domicilio_estacion_destino\n",
              "0        5453  ...          México 1652 entre Virrey Cevallos y Solís\n",
              "1         673  ...  Guardia Vieja 3606 entre Billinghurst y Mario ...\n",
              "2      179119  ...                                Padilla y Warnes Av\n",
              "3      400147  ...                        Lavalle y Acuña de Figueroa\n",
              "4      400156  ...                        Lavalle y Acuña de Figueroa\n",
              "\n",
              "[5 rows x 15 columns]"
            ]
          },
          "metadata": {
            "tags": []
          },
          "execution_count": 4
        }
      ]
    },
    {
      "cell_type": "code",
      "metadata": {
        "id": "gG9QSMbWf_Br"
      },
      "source": [
        "# reset the index to date in both dataframes, later join them\r\n",
        "\r\n",
        "temp2018['date2'] = pd.to_datetime(temp2018['date']).dt.date\r\n",
        "temp2018.set_index('date2', inplace=True)\r\n",
        "\r\n",
        "bike_ride_2018.rename(columns={'fecha_origen_recorrido':'dateTime'}, inplace=True)\r\n",
        "\r\n",
        "bike_ride_2018['date'] = pd.to_datetime(bike_ride_2018['dateTime']).dt.date\r\n",
        "bike_ride_2018.set_index('date', inplace=True)"
      ],
      "execution_count": 5,
      "outputs": []
    },
    {
      "cell_type": "code",
      "metadata": {
        "colab": {
          "base_uri": "https://localhost:8080/",
          "height": 616
        },
        "id": "mTSBbs6zgA8K",
        "outputId": "42cfbf96-2ce9-4796-b2de-5e41f1d2a307"
      },
      "source": [
        "# put -1 in NaN values\r\n",
        "bike_ride_2018 = bike_ride_2018.fillna(-1)\r\n",
        "# create new dataframe with date index and only a column for travel duration\r\n",
        "\r\n",
        "bikeRides = bike_ride_2018[['duracion_recorrido']]\r\n",
        "bikeRides['duration'] = pd.to_timedelta(bikeRides['duracion_recorrido'])\r\n",
        "bikeRides.drop(columns=['duracion_recorrido'], inplace=True)\r\n",
        "\r\n",
        "# a new dataframe to group individual bike ride duration for each date\r\n",
        "\r\n",
        "bikeRidesDay = bikeRides.groupby(['date']).sum()\r\n",
        "bikeRidesDay"
      ],
      "execution_count": 6,
      "outputs": [
        {
          "output_type": "stream",
          "text": [
            "/usr/local/lib/python3.6/dist-packages/ipykernel_launcher.py:6: SettingWithCopyWarning: \n",
            "A value is trying to be set on a copy of a slice from a DataFrame.\n",
            "Try using .loc[row_indexer,col_indexer] = value instead\n",
            "\n",
            "See the caveats in the documentation: https://pandas.pydata.org/pandas-docs/stable/user_guide/indexing.html#returning-a-view-versus-a-copy\n",
            "  \n",
            "/usr/local/lib/python3.6/dist-packages/pandas/core/frame.py:4174: SettingWithCopyWarning: \n",
            "A value is trying to be set on a copy of a slice from a DataFrame\n",
            "\n",
            "See the caveats in the documentation: https://pandas.pydata.org/pandas-docs/stable/user_guide/indexing.html#returning-a-view-versus-a-copy\n",
            "  errors=errors,\n"
          ],
          "name": "stderr"
        },
        {
          "output_type": "execute_result",
          "data": {
            "text/html": [
              "<div>\n",
              "<style scoped>\n",
              "    .dataframe tbody tr th:only-of-type {\n",
              "        vertical-align: middle;\n",
              "    }\n",
              "\n",
              "    .dataframe tbody tr th {\n",
              "        vertical-align: top;\n",
              "    }\n",
              "\n",
              "    .dataframe thead th {\n",
              "        text-align: right;\n",
              "    }\n",
              "</style>\n",
              "<table border=\"1\" class=\"dataframe\">\n",
              "  <thead>\n",
              "    <tr style=\"text-align: right;\">\n",
              "      <th></th>\n",
              "      <th>duration</th>\n",
              "    </tr>\n",
              "    <tr>\n",
              "      <th>date</th>\n",
              "      <th></th>\n",
              "    </tr>\n",
              "  </thead>\n",
              "  <tbody>\n",
              "    <tr>\n",
              "      <th>2018-01-01</th>\n",
              "      <td>61 days 15:15:00.999999910</td>\n",
              "    </tr>\n",
              "    <tr>\n",
              "      <th>2018-01-02</th>\n",
              "      <td>75 days 04:05:46.999999889</td>\n",
              "    </tr>\n",
              "    <tr>\n",
              "      <th>2018-01-03</th>\n",
              "      <td>89 days 13:49:32.999999913</td>\n",
              "    </tr>\n",
              "    <tr>\n",
              "      <th>2018-01-04</th>\n",
              "      <td>80 days 05:55:33.999999912</td>\n",
              "    </tr>\n",
              "    <tr>\n",
              "      <th>2018-01-05</th>\n",
              "      <td>55 days 15:31:58.999999889</td>\n",
              "    </tr>\n",
              "    <tr>\n",
              "      <th>...</th>\n",
              "      <td>...</td>\n",
              "    </tr>\n",
              "    <tr>\n",
              "      <th>2018-12-26</th>\n",
              "      <td>53 days 01:12:31</td>\n",
              "    </tr>\n",
              "    <tr>\n",
              "      <th>2018-12-27</th>\n",
              "      <td>57 days 09:35:15</td>\n",
              "    </tr>\n",
              "    <tr>\n",
              "      <th>2018-12-28</th>\n",
              "      <td>55 days 16:28:38</td>\n",
              "    </tr>\n",
              "    <tr>\n",
              "      <th>2018-12-29</th>\n",
              "      <td>32 days 14:09:37</td>\n",
              "    </tr>\n",
              "    <tr>\n",
              "      <th>2018-12-30</th>\n",
              "      <td>20 days 07:43:06</td>\n",
              "    </tr>\n",
              "  </tbody>\n",
              "</table>\n",
              "<p>364 rows × 1 columns</p>\n",
              "</div>"
            ],
            "text/plain": [
              "                             duration\n",
              "date                                 \n",
              "2018-01-01 61 days 15:15:00.999999910\n",
              "2018-01-02 75 days 04:05:46.999999889\n",
              "2018-01-03 89 days 13:49:32.999999913\n",
              "2018-01-04 80 days 05:55:33.999999912\n",
              "2018-01-05 55 days 15:31:58.999999889\n",
              "...                               ...\n",
              "2018-12-26           53 days 01:12:31\n",
              "2018-12-27           57 days 09:35:15\n",
              "2018-12-28           55 days 16:28:38\n",
              "2018-12-29           32 days 14:09:37\n",
              "2018-12-30           20 days 07:43:06\n",
              "\n",
              "[364 rows x 1 columns]"
            ]
          },
          "metadata": {
            "tags": []
          },
          "execution_count": 6
        }
      ]
    },
    {
      "cell_type": "code",
      "metadata": {
        "colab": {
          "base_uri": "https://localhost:8080/"
        },
        "id": "ejHK2f-igN_s",
        "outputId": "5ed552fb-7ba4-4d92-b243-4e6fb2df3ce5"
      },
      "source": [
        "# create new float column 'hs_day'\r\n",
        "def create_total_hs():\r\n",
        "\tbikeRidesDay['hs_day'] = 0.0\r\n",
        "\tfor b in bikeRidesDay.index:    \r\n",
        " \t\tbikeRidesDay['hs_day'][b] = ((bikeRidesDay['duration'][b]).days)*24 + ((bikeRidesDay['duration'][b]).seconds)/3600 \r\n",
        "create_total_hs()"
      ],
      "execution_count": 8,
      "outputs": [
        {
          "output_type": "stream",
          "text": [
            "/usr/local/lib/python3.6/dist-packages/ipykernel_launcher.py:5: SettingWithCopyWarning: \n",
            "A value is trying to be set on a copy of a slice from a DataFrame\n",
            "\n",
            "See the caveats in the documentation: https://pandas.pydata.org/pandas-docs/stable/user_guide/indexing.html#returning-a-view-versus-a-copy\n",
            "  \"\"\"\n"
          ],
          "name": "stderr"
        }
      ]
    },
    {
      "cell_type": "code",
      "metadata": {
        "id": "r1MHzcm0gUOy"
      },
      "source": [
        "# join both dataframes\r\n",
        "df = bikeRidesDay.join(temp2018)\r\n",
        "df"
      ],
      "execution_count": 11,
      "outputs": []
    },
    {
      "cell_type": "code",
      "metadata": {
        "colab": {
          "base_uri": "https://localhost:8080/",
          "height": 416
        },
        "id": "mIGthx2tgZZ_",
        "outputId": "786c8f04-8092-4158-f0d6-aba8cf8c678e"
      },
      "source": [
        "# Graph results\r\n",
        "g = sns.lmplot(x='tavg', y='hs_day', data=df)\r\n",
        "g = (g.set_axis_labels(\"Daily avg. temperature (grades)\", \"Daily Bike rides hours\"))\r\n",
        "ax = plt.gca()\r\n",
        "ax.set_title(\"Bike rides/Avg.Temperature correlation in Buenos Aires, 2018\")"
      ],
      "execution_count": 13,
      "outputs": [
        {
          "output_type": "execute_result",
          "data": {
            "text/plain": [
              "Text(0.5, 1.0, 'Bike rides/Avg.Temperature correlation in Buenos Aires, 2018')"
            ]
          },
          "metadata": {
            "tags": []
          },
          "execution_count": 13
        },
        {
          "output_type": "display_data",
          "data": {
            "image/png": "[encoded data removed]",
            "text/plain": [
              "<Figure size 360x360 with 1 Axes>"
            ]
          },
          "metadata": {
            "tags": [],
            "needs_background": "light"
          }
        }
      ]
    }
  ]
}